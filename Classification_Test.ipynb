{
 "cells": [
  {
   "cell_type": "markdown",
   "id": "annual-hometown",
   "metadata": {},
   "source": [
    "# Classification_Test.ipynb\n",
    "\n",
    "### This notebook contains the feature generation, supervised machine learning and validation for automatic classification of Tweets.\n",
    "\n",
    "Author: Erik Puijk <br>\n",
    "Date  : March 28, 2022"
   ]
  },
  {
   "cell_type": "code",
   "execution_count": 1,
   "id": "noted-tackle",
   "metadata": {},
   "outputs": [
    {
     "name": "stdout",
     "output_type": "stream",
     "text": [
      "Requirement already up-to-date: scikit-learn in /home/erik/anaconda3/lib/python3.8/site-packages (1.0.2)\n",
      "Requirement already satisfied, skipping upgrade: scipy>=1.1.0 in /home/erik/anaconda3/lib/python3.8/site-packages (from scikit-learn) (1.5.2)\n",
      "Requirement already satisfied, skipping upgrade: joblib>=0.11 in /home/erik/anaconda3/lib/python3.8/site-packages (from scikit-learn) (0.17.0)\n",
      "Requirement already satisfied, skipping upgrade: threadpoolctl>=2.0.0 in /home/erik/anaconda3/lib/python3.8/site-packages (from scikit-learn) (2.1.0)\n",
      "Requirement already satisfied, skipping upgrade: numpy>=1.14.6 in /home/erik/.local/lib/python3.8/site-packages (from scikit-learn) (1.20.1)\n",
      "Note: you may need to restart the kernel to use updated packages.\n"
     ]
    }
   ],
   "source": [
    "pip install -U scikit-learn"
   ]
  },
  {
   "cell_type": "code",
   "execution_count": 1,
   "id": "organic-conversion",
   "metadata": {},
   "outputs": [],
   "source": [
    "import numpy as np\n",
    "import json, csv, math, random\n",
    "from sklearn.model_selection import train_test_split, KFold\n",
    "from sklearn.feature_extraction.text import TfidfVectorizer, CountVectorizer\n",
    "from sklearn.preprocessing import LabelEncoder\n",
    "from sklearn.metrics import f1_score, classification_report\n",
    "from sklearn import svm\n",
    "import pyperclip as pc"
   ]
  },
  {
   "cell_type": "code",
   "execution_count": 2,
   "id": "reported-computer",
   "metadata": {},
   "outputs": [],
   "source": [
    "Encoder = LabelEncoder()"
   ]
  },
  {
   "cell_type": "code",
   "execution_count": 3,
   "id": "killing-scheme",
   "metadata": {},
   "outputs": [],
   "source": [
    "def read_tweets(path):\n",
    "    \"\"\" Read the Tweets from a given text file and return in JSON-format. \"\"\"\n",
    "    \n",
    "    content = \"\"\n",
    "    \n",
    "    try:\n",
    "        with open(path, 'r') as f:\n",
    "            content = json.loads(f.read())\n",
    "    except IOError:\n",
    "        print(\"I/O error\")\n",
    "        \n",
    "    #print(\"Total Tweets read: %s\\n\" % (len(content)))\n",
    "\n",
    "    return content"
   ]
  },
  {
   "cell_type": "code",
   "execution_count": 4,
   "id": "universal-gravity",
   "metadata": {},
   "outputs": [],
   "source": [
    "def write_tweets(tweets_w, path):\n",
    "    \"\"\" Write obtained Tweets to a text file in JSON-format. \"\"\"\n",
    "    \n",
    "    try:\n",
    "        with open(path, 'w') as f:\n",
    "            json.dump(tweets_w, f)\n",
    "    except IOError:\n",
    "        print(\"I/O error\")"
   ]
  },
  {
   "cell_type": "code",
   "execution_count": 5,
   "id": "mechanical-indicator",
   "metadata": {},
   "outputs": [],
   "source": [
    "def stats_count(cat):\n",
    "    \"\"\" Count the occurrences of each category in a list of categories. \"\"\"\n",
    "    \n",
    "    occurrences = [[x,cat.count(x)] for x in set(cat)]\n",
    "    \n",
    "    print('Number of training data')\n",
    "    \n",
    "    for occ in occurrences:\n",
    "        print('%s: %s' % (occ[0], occ[1]))\n",
    "        \n",
    "    print('')"
   ]
  },
  {
   "cell_type": "code",
   "execution_count": 6,
   "id": "critical-founder",
   "metadata": {},
   "outputs": [],
   "source": [
    "def calc_avg_scores(scores, cats, k):\n",
    "    \"\"\" Calculate an average score given a list of scores. \"\"\"\n",
    "    \n",
    "    scores_avg = []\n",
    "    \n",
    "    # If a list of lists of scores is given, calculate the average per label\n",
    "    if isinstance(scores[0], list): \n",
    "        \n",
    "        for i in range(len(cats)):\n",
    "\n",
    "            total = 0\n",
    "\n",
    "            for j in range(k):\n",
    "                total += scores[j][i]\n",
    "\n",
    "            scores_avg.append(total / k)\n",
    "            \n",
    "    # If a list of average (f1) scores is given, just return that list\n",
    "    else:\n",
    "        return scores\n",
    "\n",
    "    return scores_avg"
   ]
  },
  {
   "cell_type": "code",
   "execution_count": 7,
   "id": "distinguished-casino",
   "metadata": {},
   "outputs": [],
   "source": [
    "def ml(X_train, y_train, X_test, v_type, alg, ngram_min, ngram_max, min_df, max_df, max_features):\n",
    "    \"\"\" Vectorize training and test set according to specific vectorizer and fit and predict using a specific\n",
    "        SVM. \"\"\"\n",
    "    \n",
    "    # Select appropriate vectorizer\n",
    "    if v_type == 'count':\n",
    "        vectorizer = CountVectorizer(analyzer='word', ngram_range=(ngram_min, ngram_max), min_df=min_df, \\\n",
    "                                     max_df=max_df, max_features=max_features)\n",
    "    else:\n",
    "        vectorizer = TfidfVectorizer(ngram_range=(ngram_min, ngram_max), min_df=min_df, max_df=max_df, \\\n",
    "                                     max_features=max_features, sublinear_tf=True)\n",
    "\n",
    "    X_train = vectorizer.fit_transform(X_train)\n",
    "    X_test = vectorizer.transform(X_test)\n",
    "\n",
    "    # Create and fit SVM\n",
    "    if alg == 'svc':\n",
    "        clf = svm.SVC(kernel='linear', C=0.6, class_weight='balanced')\n",
    "    else:\n",
    "        clf = svm.LinearSVC(C=0.5, class_weight='balanced', random_state=0)\n",
    "\n",
    "    clf.fit(X_train, y_train)\n",
    "    pred = clf.predict(X_test)\n",
    "    \n",
    "    return pred"
   ]
  },
  {
   "cell_type": "code",
   "execution_count": 34,
   "id": "arbitrary-criterion",
   "metadata": {},
   "outputs": [],
   "source": [
    "def test_configurations(v_type, tweets, labels, alg):\n",
    "    \"\"\" Test different configurations for different models and compare the micro-f1 scores to select the best\n",
    "        model. \"\"\"\n",
    "    \n",
    "    cats = list(set(labels))\n",
    "    i_max = 1\n",
    "    scores = []\n",
    "    avg_scores = []\n",
    "    \n",
    "    # Define model parameters according to which categorization\n",
    "    if len(cats) == 3:\n",
    "        params = {\n",
    "            \"ngram_min\": 1,\n",
    "            \"ngram_max\": 2,\n",
    "            \"min_df\": 1,\n",
    "            \"max_df\": 0.4,\n",
    "            \"max_features\": 3000\n",
    "        }\n",
    "    else:\n",
    "        params = {\n",
    "            \"ngram_min\": 1,\n",
    "            \"ngram_max\": 2,\n",
    "            \"min_df\": 1,\n",
    "            \"max_df\": 0.4,\n",
    "            \"max_features\": 450\n",
    "        }\n",
    "    \n",
    "    for i in range(0, i_max):\n",
    "        # Split data set into training and testing sets\n",
    "        X_train, X_test, y_train, y_test = train_test_split(tweets, labels, test_size=0.3, random_state=i+5)\n",
    "\n",
    "        stats_count(list(y_test))\n",
    "\n",
    "        # Encode labels\n",
    "        y_train = Encoder.fit_transform(y_train)\n",
    "        y_test = Encoder.fit_transform(y_test)\n",
    "\n",
    "        pred = ml(X_train, y_train, X_test, v_type, alg, params['ngram_min'], params['ngram_max'], \\\n",
    "                  params['min_df'], params['max_df'], params['max_features'])\n",
    "        \n",
    "        scores.append(list(f1_score(y_test, pred, average=None, zero_division=0)))\n",
    "\n",
    "        print(classification_report(y_test, pred, target_names=Encoder.inverse_transform(list(set(y_test))), \\\n",
    "                                       zero_division=0))\n",
    "\n",
    "    avg_scores = calc_avg_scores(scores, cats, i_max)\n",
    "    \n",
    "    print(\"CAM: \" + str(round(avg_scores[0], 2)))\n",
    "    print(\"POL: \" + str(round(avg_scores[1], 2)))\n",
    "    print(\"SOC: \" + str(round(avg_scores[2], 2)))\n",
    "    \n",
    "    #print(\"CON: \" + str(round(avg_scores[0], 2)))\n",
    "    #print(\"FOL: \" + str(round(avg_scores[1], 2)))\n",
    "    #print(\"NON: \" + str(round(avg_scores[2], 2)))\n",
    "    #print(\"SUP: \" + str(round(avg_scores[3], 2)))"
   ]
  },
  {
   "cell_type": "code",
   "execution_count": 35,
   "id": "hydraulic-mexico",
   "metadata": {},
   "outputs": [
    {
     "name": "stdout",
     "output_type": "stream",
     "text": [
      "Number of training data\n",
      "SOC: 11\n",
      "CAM: 33\n",
      "POL: 96\n",
      "\n",
      "              precision    recall  f1-score   support\n",
      "\n",
      "         CAM       0.74      0.61      0.67        33\n",
      "         POL       0.84      0.84      0.84        96\n",
      "         SOC       0.41      0.64      0.50        11\n",
      "\n",
      "    accuracy                           0.77       140\n",
      "   macro avg       0.67      0.70      0.67       140\n",
      "weighted avg       0.79      0.77      0.78       140\n",
      "\n",
      "CAM: 0.67\n",
      "POL: 0.84\n",
      "SOC: 0.5\n"
     ]
    }
   ],
   "source": [
    "# Read all Tweets\n",
    "tweets_con = read_tweets('source/tweets_all_preprocessed_exc_stopwords.txt')\n",
    "tweets_act = read_tweets('source/tweets_all_preprocessed_exc_stopwords.txt')\n",
    "\n",
    "# Select gold-standard (labeled) Tweets\n",
    "tweets_con_gs = [tweet for tweet in tweets_con if tweet['memo'] == 'gold_standard']\n",
    "tweets_act_gs = [tweet for tweet in tweets_act if tweet['memo'] == 'gold_standard']\n",
    "\n",
    "# Select the text from those Tweets\n",
    "tweets_con_text = [tweet['text'] for tweet in tweets_con_gs]\n",
    "tweets_act_text = [tweet['text'] for tweet in tweets_act_gs]\n",
    "\n",
    "# Select the labels from those Tweets\n",
    "labels_con = [tweet['cat_con'] for tweet in tweets_con_gs]\n",
    "labels_act = [tweet['cat_act'] for tweet in tweets_act_gs]\n",
    "\n",
    "test_configurations('count', tweets_con_text, labels_con, 'linear_svc')\n",
    "#test_configurations('tfidf', tweets_act_text, labels_act, 'svc')"
   ]
  },
  {
   "cell_type": "code",
   "execution_count": null,
   "id": "governmental-williams",
   "metadata": {},
   "outputs": [],
   "source": []
  }
 ],
 "metadata": {
  "kernelspec": {
   "display_name": "Python 3",
   "language": "python",
   "name": "python3"
  },
  "language_info": {
   "codemirror_mode": {
    "name": "ipython",
    "version": 3
   },
   "file_extension": ".py",
   "mimetype": "text/x-python",
   "name": "python",
   "nbconvert_exporter": "python",
   "pygments_lexer": "ipython3",
   "version": "3.8.5"
  }
 },
 "nbformat": 4,
 "nbformat_minor": 5
}
