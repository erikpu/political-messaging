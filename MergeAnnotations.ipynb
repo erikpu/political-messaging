{
 "cells": [
  {
   "cell_type": "markdown",
   "id": "annual-hometown",
   "metadata": {},
   "source": [
    "# MergeAnnotations.ipynb\n",
    "\n",
    "### This notebook merges a list of annotations with the JSON-formatted Tweets.\n",
    "\n",
    "Author: Erik Puijk <br>\n",
    "Date  : March 23, 2022"
   ]
  },
  {
   "cell_type": "code",
   "execution_count": 16,
   "id": "organic-conversion",
   "metadata": {},
   "outputs": [],
   "source": [
    "import json\n",
    "import csv"
   ]
  },
  {
   "cell_type": "code",
   "execution_count": 17,
   "id": "killing-scheme",
   "metadata": {},
   "outputs": [],
   "source": [
    "def read_tweets(path):\n",
    "    \"\"\" Read the Tweets from a given text file and return in JSON-format. \"\"\"\n",
    "    \n",
    "    content = \"\"\n",
    "    \n",
    "    try:\n",
    "        with open(path, 'r') as f:\n",
    "            content = json.loads(f.read())\n",
    "    except IOError:\n",
    "        print(\"I/O error\")\n",
    "        \n",
    "    print(\"Total Tweets read: %s\" % (len(content)))\n",
    "\n",
    "    return content"
   ]
  },
  {
   "cell_type": "code",
   "execution_count": 18,
   "id": "graduate-french",
   "metadata": {},
   "outputs": [],
   "source": [
    "def read_annotations(path):\n",
    "    \"\"\" Read the CSV-formatted annotations and store them in a list. \"\"\"\n",
    "    \n",
    "    annotations = []\n",
    "    \n",
    "    with open(path, 'r') as f:\n",
    "        reader = csv.reader(f, delimiter=',')\n",
    "        for i, row in enumerate(reader):\n",
    "            if i > 0:\n",
    "                annotations.append(row)\n",
    "    \n",
    "    return annotations"
   ]
  },
  {
   "cell_type": "code",
   "execution_count": 19,
   "id": "upset-reggae",
   "metadata": {},
   "outputs": [],
   "source": [
    "def merge_annotations(tweets, annotations, memo):\n",
    "    \"\"\" Add the annotations to the Tweet if the Tweet ID's match and add a specified memo in the memo field. \"\"\"\n",
    "    \n",
    "    for row in annotations:\n",
    "        for tweet in tweets:\n",
    "            \n",
    "            # Match on Tweet ID\n",
    "            if row[0] == tweet['id']:\n",
    "                # Add annotations to corresponding fields\n",
    "                tweet['cat_con'] = row[1]\n",
    "                tweet['cat_act'] = row[2]\n",
    "                tweet['memo'] = memo\n",
    "    \n",
    "    return tweets"
   ]
  },
  {
   "cell_type": "code",
   "execution_count": 20,
   "id": "universal-gravity",
   "metadata": {},
   "outputs": [],
   "source": [
    "def write_tweets(tweets_w, path):\n",
    "    \"\"\" Write obtained Tweets to a text file in JSON-format. \"\"\"\n",
    "    \n",
    "    try:\n",
    "        with open(path, 'w') as f:\n",
    "            json.dump(tweets_w, f)\n",
    "    except IOError:\n",
    "        print(\"I/O error\")"
   ]
  },
  {
   "cell_type": "code",
   "execution_count": 21,
   "id": "hydraulic-mexico",
   "metadata": {},
   "outputs": [
    {
     "name": "stdout",
     "output_type": "stream",
     "text": [
      "Total Tweets read: 4664\n"
     ]
    }
   ],
   "source": [
    "tweets_r = read_tweets('source/tweets_all.txt')\n",
    "annotations_r = read_annotations('source/gold_standard_annotated.csv')\n",
    "\n",
    "tweets = merge_annotations(tweets_r, annotations_r, 'gold_standard')"
   ]
  },
  {
   "cell_type": "code",
   "execution_count": 22,
   "id": "incorporated-ethernet",
   "metadata": {},
   "outputs": [],
   "source": [
    "write_tweets(tweets, 'source/tweets_all.txt')"
   ]
  },
  {
   "cell_type": "code",
   "execution_count": null,
   "id": "stainless-activity",
   "metadata": {},
   "outputs": [],
   "source": []
  }
 ],
 "metadata": {
  "kernelspec": {
   "display_name": "Python 3",
   "language": "python",
   "name": "python3"
  },
  "language_info": {
   "codemirror_mode": {
    "name": "ipython",
    "version": 3
   },
   "file_extension": ".py",
   "mimetype": "text/x-python",
   "name": "python",
   "nbconvert_exporter": "python",
   "pygments_lexer": "ipython3",
   "version": "3.8.5"
  }
 },
 "nbformat": 4,
 "nbformat_minor": 5
}
