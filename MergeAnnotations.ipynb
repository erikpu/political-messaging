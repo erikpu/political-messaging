{
 "cells": [
  {
   "cell_type": "markdown",
   "id": "annual-hometown",
   "metadata": {},
   "source": [
    "# MergeAnnotations.ipynb\n",
    "\n",
    "### This notebook merges the manual annotations with the JSON-formatted Tweets.\n",
    "\n",
    "Author: Erik Puijk <br>\n",
    "Date  : March 23, 2022"
   ]
  },
  {
   "cell_type": "code",
   "execution_count": 25,
   "id": "organic-conversion",
   "metadata": {},
   "outputs": [],
   "source": [
    "import json\n",
    "import csv"
   ]
  },
  {
   "cell_type": "code",
   "execution_count": 26,
   "id": "killing-scheme",
   "metadata": {},
   "outputs": [],
   "source": [
    "def read_tweets(path):\n",
    "    \"\"\" Read the Tweets from a given text file and return in JSON-format. \"\"\"\n",
    "    \n",
    "    content = \"\"\n",
    "    \n",
    "    try:\n",
    "        with open(path, 'r') as f:\n",
    "            content = json.loads(f.read())\n",
    "    except IOError:\n",
    "        print(\"I/O error\")\n",
    "        \n",
    "    print(\"Total Tweets read: %s\" % (len(content)))\n",
    "\n",
    "    return content"
   ]
  },
  {
   "cell_type": "code",
   "execution_count": 27,
   "id": "graduate-french",
   "metadata": {},
   "outputs": [],
   "source": [
    "def read_annotations(path):\n",
    "    \n",
    "    annotations = []\n",
    "    \n",
    "    with open(path, 'r') as f:\n",
    "        reader = csv.reader(f, delimiter=',')\n",
    "        for i, row in enumerate(reader):\n",
    "            if i > 0:\n",
    "                annotations.append(row)\n",
    "    \n",
    "    return annotations"
   ]
  },
  {
   "cell_type": "code",
   "execution_count": 28,
   "id": "upset-reggae",
   "metadata": {},
   "outputs": [],
   "source": [
    "def merge_annotations(tweets, annotations):\n",
    "    \n",
    "    for row in annotations:\n",
    "        for tweet in tweets:\n",
    "            if row[0] == tweet['id']:\n",
    "                tweet['cat_con'] = row[1]\n",
    "                tweet['cat_act'] = row[2]\n",
    "                tweet['memo'] = 'gold_standard'\n",
    "    \n",
    "    return tweets"
   ]
  },
  {
   "cell_type": "code",
   "execution_count": 31,
   "id": "universal-gravity",
   "metadata": {},
   "outputs": [],
   "source": [
    "def write_tweets(path):\n",
    "    \"\"\" Write obtained Tweets to a text file in JSON-format. \"\"\"\n",
    "    \n",
    "    try:\n",
    "        with open(path, 'w') as f:\n",
    "            json.dump(tweets, f)\n",
    "    except IOError:\n",
    "        print(\"I/O error\")"
   ]
  },
  {
   "cell_type": "code",
   "execution_count": 32,
   "id": "hydraulic-mexico",
   "metadata": {},
   "outputs": [
    {
     "name": "stdout",
     "output_type": "stream",
     "text": [
      "Total Tweets read: 4664\n"
     ]
    }
   ],
   "source": [
    "tweets = merge_annotations(read_tweets('source/tweets_all.txt'), read_annotations('source/gold_standard_annotated.csv'))"
   ]
  },
  {
   "cell_type": "code",
   "execution_count": 33,
   "id": "incorporated-ethernet",
   "metadata": {},
   "outputs": [],
   "source": [
    "write_tweets(\"source/tweets_all_annotated.txt\")"
   ]
  },
  {
   "cell_type": "code",
   "execution_count": null,
   "id": "stainless-activity",
   "metadata": {},
   "outputs": [],
   "source": []
  }
 ],
 "metadata": {
  "kernelspec": {
   "display_name": "Python 3",
   "language": "python",
   "name": "python3"
  },
  "language_info": {
   "codemirror_mode": {
    "name": "ipython",
    "version": 3
   },
   "file_extension": ".py",
   "mimetype": "text/x-python",
   "name": "python",
   "nbconvert_exporter": "python",
   "pygments_lexer": "ipython3",
   "version": "3.8.5"
  }
 },
 "nbformat": 4,
 "nbformat_minor": 5
}
