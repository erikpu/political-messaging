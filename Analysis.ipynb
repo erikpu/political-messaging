{
 "cells": [
  {
   "cell_type": "markdown",
   "id": "annual-hometown",
   "metadata": {},
   "source": [
    "# Analysis.ipynb\n",
    "\n",
    "### This notebook analyses the data for the Results section of the thesis.\n",
    "\n",
    "Author: Erik Puijk <br>\n",
    "Date  : May 9, 2022"
   ]
  },
  {
   "cell_type": "code",
   "execution_count": 215,
   "id": "organic-conversion",
   "metadata": {},
   "outputs": [],
   "source": [
    "import json\n",
    "import pandas as pd\n",
    "import csv\n",
    "import matplotlib.pyplot as plt\n",
    "plt.close(\"all\")"
   ]
  },
  {
   "cell_type": "code",
   "execution_count": 216,
   "id": "killing-scheme",
   "metadata": {},
   "outputs": [],
   "source": [
    "def read_tweets(path):\n",
    "    \"\"\" Read the Tweets from a given text file and return in JSON-format. \"\"\"\n",
    "    \n",
    "    content = \"\"\n",
    "    \n",
    "    try:\n",
    "        with open(path, 'r') as f:\n",
    "            content = json.loads(f.read())\n",
    "    except IOError:\n",
    "        print(\"I/O error\")\n",
    "        \n",
    "    print(\"Total Tweets read: %s\\n\" % (len(content)))\n",
    "\n",
    "    return content"
   ]
  },
  {
   "cell_type": "code",
   "execution_count": 217,
   "id": "functioning-particular",
   "metadata": {},
   "outputs": [],
   "source": [
    "def write_csv(headers, rows, path):\n",
    "    \"\"\" Write results from the analysis to a csv-file in a specified path. \"\"\"\n",
    "    \n",
    "    with open(path, 'w') as f:\n",
    "        w = csv.writer(f)\n",
    "        \n",
    "        w.writerow(headers)\n",
    "        w.writerows(rows)\n",
    "    \n",
    "    print(\"Total rows written: %s\\n\" % (len(rows) + 1))"
   ]
  },
  {
   "cell_type": "code",
   "execution_count": 218,
   "id": "thorough-siemens",
   "metadata": {},
   "outputs": [],
   "source": [
    "def average_engagement(tweets):\n",
    "    \"\"\" Count the occurrences and average engagement of each category. \"\"\"\n",
    "    \n",
    "    cat_con = [['cat_con', x, sum(tweets.cat_con == x), \n",
    "                \"%.1f%%\" % round(sum(tweets.cat_con == x) / len(tweets) * 100, 1),\n",
    "                \"%.2f\" % round(tweets.loc[tweets['cat_con'] == x, 'total_engagement'].mean() * 1000, 2)]\n",
    "               for x in sorted(tweets.cat_con.unique())]\n",
    "    cat_act = [['cat_act', x, sum(tweets.cat_act == x), \n",
    "                \"%.1f%%\" % round(sum(tweets.cat_act == x) / len(tweets) * 100, 1),\n",
    "                \"%.2f\" % round(tweets.loc[tweets['cat_act'] == x, 'total_engagement'].mean() * 1000, 2)]\n",
    "               for x in sorted(tweets.cat_act.unique())]\n",
    "    media_type = [['media_type', x, sum(tweets.media_type == x), \n",
    "                   \"%.1f%%\" % round(sum(tweets.media_type == x) / len(tweets) * 100, 1), \n",
    "                   \"%.2f\" % round(tweets.loc[tweets['media_type'] == x, 'total_engagement'].mean() * 1000, 2)]\n",
    "               for x in sorted(tweets.media_type.unique())]\n",
    "    \n",
    "    # Write results to a csv file\n",
    "    write_csv(['Type', 'Category', 'N', 'Percentage', 'Average engagement (x1000)'],\n",
    "             [*cat_con, *cat_act, *media_type],\n",
    "             'results/average_engagement.csv')"
   ]
  },
  {
   "cell_type": "code",
   "execution_count": 355,
   "id": "emotional-rogers",
   "metadata": {},
   "outputs": [],
   "source": [
    "def engagement_per_day(tweets):\n",
    "    \n",
    "    df = tweets[['created_at', 'cat_con', 'cat_act', 'media_type', 'total_engagement']]\n",
    "    df.insert(0, 'date', pd.to_datetime(df.created_at.str[:10], format='%Y-%m-%d'))\n",
    "    del df['created_at']\n",
    "    \n",
    "    print(df.head())"
   ]
  },
  {
   "cell_type": "code",
   "execution_count": 356,
   "id": "express-array",
   "metadata": {},
   "outputs": [
    {
     "name": "stdout",
     "output_type": "stream",
     "text": [
      "Total Tweets read: 4664\n",
      "\n",
      "Total rows written: 12\n",
      "\n",
      "        date cat_con cat_act media_type  total_engagement\n",
      "0 2021-03-17     POL     CON      video          0.000481\n",
      "1 2021-02-22     SOC     FOL      photo          0.001084\n",
      "2 2021-03-10     CAM     FOL      photo          0.021416\n",
      "3 2021-03-10     CAM     FOL       none          0.004270\n",
      "4 2021-02-09     POL     FOL       none          0.002403\n"
     ]
    }
   ],
   "source": [
    "tweets = read_tweets('source/tweets_all_labeled.txt')\n",
    "tweets_pd = pd.DataFrame(tweets)\n",
    "\n",
    "# Show the number of Tweets and average engagement per messaging strategy\n",
    "average_engagement(tweets_pd)\n",
    "\n",
    "engagement_per_day(tweets_pd)\n",
    "\n",
    "#tweets_pd"
   ]
  },
  {
   "cell_type": "code",
   "execution_count": null,
   "id": "recreational-sense",
   "metadata": {},
   "outputs": [],
   "source": []
  },
  {
   "cell_type": "code",
   "execution_count": null,
   "id": "wanted-thong",
   "metadata": {},
   "outputs": [],
   "source": []
  }
 ],
 "metadata": {
  "kernelspec": {
   "display_name": "Python 3",
   "language": "python",
   "name": "python3"
  },
  "language_info": {
   "codemirror_mode": {
    "name": "ipython",
    "version": 3
   },
   "file_extension": ".py",
   "mimetype": "text/x-python",
   "name": "python",
   "nbconvert_exporter": "python",
   "pygments_lexer": "ipython3",
   "version": "3.8.5"
  }
 },
 "nbformat": 4,
 "nbformat_minor": 5
}
