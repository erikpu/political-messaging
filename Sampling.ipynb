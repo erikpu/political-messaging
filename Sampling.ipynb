{
 "cells": [
  {
   "cell_type": "markdown",
   "id": "limiting-joseph",
   "metadata": {},
   "source": [
    "# Sampling.ipynb\n",
    "\n",
    "### This notebook can be used to extract random samples of a set of Tweets or split a set of Tweets randomly.\n",
    "\n",
    "Author: Erik Puijk <br>\n",
    "Date  : February 3, 2022"
   ]
  },
  {
   "cell_type": "code",
   "execution_count": 32,
   "id": "previous-convenience",
   "metadata": {},
   "outputs": [],
   "source": [
    "import json\n",
    "import math\n",
    "import random\n",
    "from datetime import datetime\n",
    "import pandas as pd"
   ]
  },
  {
   "cell_type": "code",
   "execution_count": 33,
   "id": "utility-polymer",
   "metadata": {},
   "outputs": [],
   "source": [
    "def read_tweets(path):\n",
    "    \"\"\" Read the Tweets from a given text file and return in JSON-format. \"\"\"\n",
    "    \n",
    "    content = \"\"\n",
    "    \n",
    "    try:\n",
    "        with open(path, 'r') as f:\n",
    "            content = json.loads(f.read())\n",
    "    except IOError:\n",
    "        print(\"I/O error\")\n",
    "        \n",
    "    print(\"Total Tweets read: %s\" % (len(content)))\n",
    "\n",
    "    return content"
   ]
  },
  {
   "cell_type": "code",
   "execution_count": 36,
   "id": "distinct-chicken",
   "metadata": {},
   "outputs": [
    {
     "name": "stdout",
     "output_type": "stream",
     "text": [
      "Total Tweets read: 467\n"
     ]
    }
   ],
   "source": [
    "tweets = read_tweets(\"samples/2. coding/gold_standard.txt\")"
   ]
  },
  {
   "cell_type": "code",
   "execution_count": 18,
   "id": "continental-trinidad",
   "metadata": {},
   "outputs": [],
   "source": [
    "def random_split(lst, sample_ratio):\n",
    "    \"\"\" Randomly split a given list into two lists with to a given ratio and return the lists. \"\"\"\n",
    "    \n",
    "    sample_size = math.ceil(len(lst)*sample_ratio)\n",
    "    sample = random.sample(lst, sample_size)\n",
    "    \n",
    "    return sample, [tweet for tweet in lst if tweet not in sample]"
   ]
  },
  {
   "cell_type": "code",
   "execution_count": 19,
   "id": "modified-hunger",
   "metadata": {},
   "outputs": [],
   "source": [
    "#sample, rest = random_split(tweets, 0.1)"
   ]
  },
  {
   "cell_type": "code",
   "execution_count": 20,
   "id": "pressing-variance",
   "metadata": {},
   "outputs": [
    {
     "name": "stdout",
     "output_type": "stream",
     "text": [
      "467\n",
      "4201\n"
     ]
    }
   ],
   "source": [
    "#print(len(sample))\n",
    "#print(len(rest))"
   ]
  },
  {
   "cell_type": "code",
   "execution_count": 37,
   "id": "obvious-legislature",
   "metadata": {},
   "outputs": [],
   "source": [
    "def random_sample(lst, sample_size):\n",
    "    \"\"\" Randomly sample a given amount of Tweets from a given list and return the samples in a list. \"\"\"\n",
    "    \n",
    "    if sample_size > len(lst):\n",
    "        print(\"Error: sample size exceeds list size.\")\n",
    "        return []\n",
    "    else:\n",
    "        sample = random.sample(lst, sample_size)\n",
    "    \n",
    "    return sample"
   ]
  },
  {
   "cell_type": "code",
   "execution_count": 38,
   "id": "industrial-pastor",
   "metadata": {},
   "outputs": [],
   "source": [
    "sample = random_sample(tweets, 50)"
   ]
  },
  {
   "cell_type": "code",
   "execution_count": 23,
   "id": "rubber-cleveland",
   "metadata": {},
   "outputs": [],
   "source": [
    "def write_csv(tweets):\n",
    "    \"\"\" Write the Tweets from a given list to a preset text file in CSV. \"\"\"\n",
    "    \n",
    "    now = datetime.now()\n",
    "    path = \"samples/\" + now.strftime(\"%Y%m%d_%H%M%S\") + \"_sample.csv\"\n",
    "    \n",
    "    # Set id as first column\n",
    "    df = pd.json_normalize(tweets)\n",
    "    id_col = df.pop(\"id\")\n",
    "    df.insert(0, \"id\", id_col)\n",
    "    \n",
    "    df.to_csv(path, index=False)"
   ]
  },
  {
   "cell_type": "code",
   "execution_count": 29,
   "id": "competent-policy",
   "metadata": {},
   "outputs": [],
   "source": [
    "def write_json(tweets):\n",
    "    \"\"\" Write the Tweets from a given list to a preset text file in JSON. \"\"\"\n",
    "    \n",
    "    now = datetime.now()\n",
    "    path = \"samples/\" + now.strftime(\"%Y%m%d_%H%M%S\") + \"_sample.txt\"\n",
    "    \n",
    "    try:\n",
    "        with open(path, 'w') as f:\n",
    "            json.dump(tweets, f)\n",
    "    except IOError:\n",
    "        print(\"I/O error\")"
   ]
  },
  {
   "cell_type": "code",
   "execution_count": 39,
   "id": "capital-victim",
   "metadata": {},
   "outputs": [],
   "source": [
    "write_csv(sample)"
   ]
  },
  {
   "cell_type": "code",
   "execution_count": null,
   "id": "proof-freedom",
   "metadata": {},
   "outputs": [],
   "source": []
  }
 ],
 "metadata": {
  "kernelspec": {
   "display_name": "Python 3",
   "language": "python",
   "name": "python3"
  },
  "language_info": {
   "codemirror_mode": {
    "name": "ipython",
    "version": 3
   },
   "file_extension": ".py",
   "mimetype": "text/x-python",
   "name": "python",
   "nbconvert_exporter": "python",
   "pygments_lexer": "ipython3",
   "version": "3.8.5"
  }
 },
 "nbformat": 4,
 "nbformat_minor": 5
}
