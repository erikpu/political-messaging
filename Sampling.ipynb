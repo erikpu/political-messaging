{
 "cells": [
  {
   "cell_type": "markdown",
   "id": "limiting-joseph",
   "metadata": {},
   "source": [
    "# Sampling.ipynb\n",
    "\n",
    "### This notebook can be used to extract random samples of a set of Tweets or split a set of Tweets randomly.\n",
    "\n",
    "Author: Erik Puijk <br>\n",
    "Date  : February 3, 2022"
   ]
  },
  {
   "cell_type": "code",
   "execution_count": 1,
   "id": "previous-convenience",
   "metadata": {},
   "outputs": [],
   "source": [
    "import json\n",
    "import math\n",
    "import random\n",
    "from datetime import datetime\n",
    "import pandas as pd"
   ]
  },
  {
   "cell_type": "code",
   "execution_count": 2,
   "id": "utility-polymer",
   "metadata": {},
   "outputs": [],
   "source": [
    "def read_tweets(path):\n",
    "    \"\"\" Read the Tweets from a given text file and return in JSON-format. \"\"\"\n",
    "    \n",
    "    content = \"\"\n",
    "    \n",
    "    try:\n",
    "        with open(path, 'r') as f:\n",
    "            content = json.loads(f.read())\n",
    "    except IOError:\n",
    "        print(\"I/O error\")\n",
    "        \n",
    "    print(\"Total Tweets read: %s\" % (len(content)))\n",
    "\n",
    "    return content"
   ]
  },
  {
   "cell_type": "code",
   "execution_count": 3,
   "id": "continental-trinidad",
   "metadata": {},
   "outputs": [],
   "source": [
    "def random_split(lst, sample_ratio):\n",
    "    \"\"\" Randomly split a given list into two lists with to a given ratio and return the lists. \"\"\"\n",
    "    \n",
    "    sample_size = math.ceil(len(lst)*sample_ratio)\n",
    "    sample = random.sample(lst, sample_size)\n",
    "    \n",
    "    return sample, [tweet for tweet in lst if tweet not in sample]"
   ]
  },
  {
   "cell_type": "code",
   "execution_count": 4,
   "id": "obvious-legislature",
   "metadata": {},
   "outputs": [],
   "source": [
    "def random_sample(lst, sample_size):\n",
    "    \"\"\" Randomly sample a given amount of Tweets from a given list and return the samples in a list. \"\"\"\n",
    "    \n",
    "    if sample_size > len(lst):\n",
    "        print(\"Error: sample size exceeds list size.\")\n",
    "        return []\n",
    "    else:\n",
    "        sample = random.sample(lst, sample_size)\n",
    "    \n",
    "    return sample"
   ]
  },
  {
   "cell_type": "code",
   "execution_count": 5,
   "id": "industrial-pastor",
   "metadata": {},
   "outputs": [],
   "source": [
    "def write_sample(tweets, name, ext):\n",
    "    \"\"\" Write the Tweets from a given list to a text file in CSV or JSON format. \"\"\"\n",
    "    \n",
    "    if ext == \"json\":\n",
    "        path = \"samples/\" + name + \".txt\"\n",
    "        \n",
    "        try:\n",
    "            with open(path, 'w') as f:\n",
    "                json.dump(tweets, f)\n",
    "        except IOError:\n",
    "            print(\"I/O error\")\n",
    "    elif ext == \"csv\":\n",
    "        path = \"samples/\" + name + \".csv\"\n",
    "        \n",
    "        # Set id as first column\n",
    "        df = pd.json_normalize(tweets)\n",
    "        id_col = df.pop(\"id\")\n",
    "        df.insert(0, \"id\", id_col)\n",
    "\n",
    "        df.to_csv(path, index=False)\n",
    "    else:\n",
    "        print(\"Error: no extension format specified.\")"
   ]
  },
  {
   "cell_type": "code",
   "execution_count": 10,
   "id": "proof-freedom",
   "metadata": {},
   "outputs": [],
   "source": [
    "all_tweets = read_tweets('source/tweets_all.txt')\n",
    "\n",
    "# Select 10% for gold-standard set\n",
    "gold_standard, rest = random_split(all_tweets, 0.1)\n",
    "\n",
    "# From that 10%, select 50 Tweets for inter-coder validation\n",
    "intercoder_sample = random_sample(gold_standard, 50)\n",
    "\n",
    "print(\"All Tweets len: \" + str(len(all_tweets)))\n",
    "print(\"Gold-standard len: \" + str(len(gold_standard)))\n",
    "print(\"Rest len: \" + str(len(rest)))\n",
    "print(\"Intercoder_sample: \" + str(len(intercoder_sample)))\n",
    "\n",
    "write_sample(intercoder_sample, \"intercoder_sample\", \"csv\")\n",
    "write_sample(gold_standard, \"gold_standard\", \"csv\")\n",
    "write_sample(gold_standard, \"gold_standard\", \"json\")\n",
    "write_sample(rest, \"rest\", \"json\")"
   ]
  }
 ],
 "metadata": {
  "kernelspec": {
   "display_name": "Python 3",
   "language": "python",
   "name": "python3"
  },
  "language_info": {
   "codemirror_mode": {
    "name": "ipython",
    "version": 3
   },
   "file_extension": ".py",
   "mimetype": "text/x-python",
   "name": "python",
   "nbconvert_exporter": "python",
   "pygments_lexer": "ipython3",
   "version": "3.8.5"
  }
 },
 "nbformat": 4,
 "nbformat_minor": 5
}
