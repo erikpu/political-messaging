{
 "cells": [
  {
   "cell_type": "markdown",
   "id": "annual-hometown",
   "metadata": {},
   "source": [
    "# PreProcessing.ipynb\n",
    "\n",
    "### This notebook pre-processes the Tweets for use in the SVM model.\n",
    "\n",
    "Author: Erik Puijk <br>\n",
    "Date  : February 17, 2022"
   ]
  },
  {
   "cell_type": "code",
   "execution_count": 282,
   "id": "organic-conversion",
   "metadata": {},
   "outputs": [],
   "source": [
    "import re\n",
    "import json\n",
    "import pyperclip as pc"
   ]
  },
  {
   "cell_type": "code",
   "execution_count": 283,
   "id": "killing-scheme",
   "metadata": {},
   "outputs": [],
   "source": [
    "def read_tweets(path):\n",
    "    \"\"\" Read the Tweets from a given text file and return in JSON-format. \"\"\"\n",
    "    \n",
    "    content = \"\"\n",
    "    \n",
    "    try:\n",
    "        with open(path, 'r') as f:\n",
    "            content = json.loads(f.read())\n",
    "    except IOError:\n",
    "        print(\"I/O error\")\n",
    "        \n",
    "    print(\"Total Tweets read: %s\" % (len(content)))\n",
    "\n",
    "    return content"
   ]
  },
  {
   "cell_type": "code",
   "execution_count": 284,
   "id": "turned-positive",
   "metadata": {},
   "outputs": [],
   "source": [
    "# Obtained from https://stackoverflow.com/questions/33404752/removing-emojis-from-a-string-in-python\n",
    "def remove_emojis(tweet):\n",
    "    emoj = re.compile(\"[\"\n",
    "        u\"\\U0001F600-\\U0001F64F\"  # emoticons\n",
    "        u\"\\U0001F300-\\U0001F5FF\"  # symbols & pictographs\n",
    "        u\"\\U0001F680-\\U0001F6FF\"  # transport & map symbols\n",
    "        u\"\\U0001F1E0-\\U0001F1FF\"  # flags (iOS)\n",
    "        u\"\\U00002500-\\U00002BEF\"  # chinese char\n",
    "        u\"\\U00002702-\\U000027B0\"\n",
    "        u\"\\U00002702-\\U000027B0\"\n",
    "        u\"\\U000024C2-\\U0001F251\"\n",
    "        u\"\\U0001f926-\\U0001f937\"\n",
    "        u\"\\U00010000-\\U0010ffff\"\n",
    "        u\"\\u2640-\\u2642\" \n",
    "        u\"\\u2600-\\u2B55\"\n",
    "        u\"\\u200d\"\n",
    "        u\"\\u23cf\"\n",
    "        u\"\\u23e9\"\n",
    "        u\"\\u231a\"\n",
    "        u\"\\ufe0f\"  # dingbats\n",
    "        u\"\\u3030\"\n",
    "                      \"]+\", re.UNICODE)\n",
    "    return re.sub(emoj, '', tweet)"
   ]
  },
  {
   "cell_type": "code",
   "execution_count": 297,
   "id": "critical-individual",
   "metadata": {},
   "outputs": [],
   "source": [
    "# NICE: https://www.w3schools.com/python/python_regex.asp\n",
    "def remove_special_chars(tweet):\n",
    "    # To lower case\n",
    "    tweet = tweet.lower()\n",
    "    \n",
    "    # Remove URLs - VERIFIED\n",
    "    tweet = re.sub('http[a-z0-9_:/.]+','', tweet)\n",
    "    \n",
    "    # Replace @mentions with 'NAME' - VERIFIED\n",
    "    tweet = re.sub(r'@([a-z0-9_]+)', ' NAME', tweet)\n",
    "    \n",
    "    # Replace times with 'TIME' - VERIFIED\n",
    "    tweet = re.sub(r'(\\b[\\d]{1,2} tot [\\d]{1,2}\\b)', 'TIME tot TIME', tweet)\n",
    "    tweet = re.sub(r'(\\b[\\d]{1,2}[:\\.][\\d]{1,2} (uur|u)\\b)', 'TIME', tweet)\n",
    "    tweet = re.sub(r'(\\b[\\d]{1,2}[:\\.][\\d]{1,2}\\b)', 'TIME', tweet)\n",
    "    tweet = re.sub(r'(\\b[\\d]{1,2} (uur|u)\\b)', 'TIME', tweet)\n",
    "    tweet = re.sub(r'(\\b[\\d]{1,2}(uur|u)\\b)', 'TIME', tweet)\n",
    "    \n",
    "    # Replace days with DAY - VERIFIED\n",
    "    tweet = re.sub(r'\\b(maandag|dinsdag|woensdag|donderdag|vrijdag|zaterdag|zondag)+(ochtend|morgen|middag|avond)*\\b', 'DAY', tweet)\n",
    "    \n",
    "    # Replace dates with DATE - VERIFIED\n",
    "    tweet = re.sub(r'(\\b[\\d]{1,2}\\s(januari|februari|maart|april|juni|juli|augustus|september|oktober|november|december))', 'DATE', tweet)\n",
    "    tweet = re.sub(r'(\\b[\\d]{1,2}\\s(jan|feb|mrt|apr|mei|jun|jul|aug|sept|okt|nov|dec))', 'DATE', tweet)\n",
    "    \n",
    "    # Replace numbers with 'NUMBER' - TO BE VERIFIED\n",
    "    #tweet = re.sub(r'$\\d+\\W+|\\b\\d+\\b|\\W+\\d+$', 'NUMBER', tweet)\n",
    "    # Still contains #NUMBER (with hashtag in front)\n",
    "    tweet = re.sub(r'\\b[\\d]+\\b', 'NUMBER', tweet)\n",
    "    \n",
    "    # Remove lt, amp, etc!\n",
    "    \n",
    "    \n",
    "    return re.sub(r'[^\\w#]', ' ', tweet)"
   ]
  },
  {
   "cell_type": "code",
   "execution_count": 298,
   "id": "adult-trick",
   "metadata": {},
   "outputs": [],
   "source": [
    "#http://blog.refine-it.nl/begrijpend-lezen-met-python-en-nlp/\n",
    "def remove_stop_words(tweet):\n",
    "    \n",
    "    return tweet"
   ]
  },
  {
   "cell_type": "code",
   "execution_count": 299,
   "id": "divine-missile",
   "metadata": {},
   "outputs": [],
   "source": [
    "def pre_process(tweets):\n",
    "    \n",
    "    for tweet in tweets:\n",
    "        tweet['text'] = remove_special_chars(tweet['text'])\n",
    "        #tweet['text'] = remove_emojis(tweet['text'])\n",
    "        #tweet['text'] = remove_stop_words(tweet['text'])\n",
    "\n",
    "    return tweets"
   ]
  },
  {
   "cell_type": "code",
   "execution_count": 300,
   "id": "express-array",
   "metadata": {},
   "outputs": [
    {
     "name": "stdout",
     "output_type": "stream",
     "text": [
      "Total Tweets read: 4664\n",
      "1449\n"
     ]
    }
   ],
   "source": [
    "tweets = read_tweets('source/tweets_all.txt')\n",
    "tweets = pre_process(tweets)\n",
    "\n",
    "str_tweets = \"\"\n",
    "\n",
    "for tweet in tweets:\n",
    "    #print(tweet['text'] + '\\n')\n",
    "    str_tweets = str_tweets + tweet['text'] + '\\n'\n",
    "\n",
    "tokenized = str_tweets.split()\n",
    "print(tokenized.count(\"NUMBER\"))\n",
    "\n",
    "#print(str_tweets)\n",
    "pc.copy(str_tweets)"
   ]
  },
  {
   "cell_type": "code",
   "execution_count": null,
   "id": "oriented-skirt",
   "metadata": {},
   "outputs": [],
   "source": []
  },
  {
   "cell_type": "code",
   "execution_count": null,
   "id": "present-qatar",
   "metadata": {},
   "outputs": [],
   "source": []
  }
 ],
 "metadata": {
  "kernelspec": {
   "display_name": "Python 3",
   "language": "python",
   "name": "python3"
  },
  "language_info": {
   "codemirror_mode": {
    "name": "ipython",
    "version": 3
   },
   "file_extension": ".py",
   "mimetype": "text/x-python",
   "name": "python",
   "nbconvert_exporter": "python",
   "pygments_lexer": "ipython3",
   "version": "3.8.5"
  }
 },
 "nbformat": 4,
 "nbformat_minor": 5
}
