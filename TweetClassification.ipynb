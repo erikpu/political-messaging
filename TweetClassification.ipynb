{
 "cells": [
  {
   "cell_type": "markdown",
   "id": "annual-hometown",
   "metadata": {},
   "source": [
    "# TweetClassification.ipynb\n",
    "\n",
    "### This notebook contains a machine learning algorithm to classify the unlabeled Tweets using the selected models.\n",
    "\n",
    "Author: Erik Puijk <br>\n",
    "Date  : May 3, 2022"
   ]
  },
  {
   "cell_type": "code",
   "execution_count": 1,
   "id": "noted-tackle",
   "metadata": {},
   "outputs": [
    {
     "name": "stdout",
     "output_type": "stream",
     "text": [
      "Requirement already up-to-date: scikit-learn in /home/erik/anaconda3/lib/python3.8/site-packages (1.0.2)\n",
      "Requirement already satisfied, skipping upgrade: numpy>=1.14.6 in /home/erik/.local/lib/python3.8/site-packages (from scikit-learn) (1.20.1)\n",
      "Requirement already satisfied, skipping upgrade: scipy>=1.1.0 in /home/erik/anaconda3/lib/python3.8/site-packages (from scikit-learn) (1.5.2)\n",
      "Requirement already satisfied, skipping upgrade: joblib>=0.11 in /home/erik/anaconda3/lib/python3.8/site-packages (from scikit-learn) (0.17.0)\n",
      "Requirement already satisfied, skipping upgrade: threadpoolctl>=2.0.0 in /home/erik/anaconda3/lib/python3.8/site-packages (from scikit-learn) (2.1.0)\n",
      "Note: you may need to restart the kernel to use updated packages.\n"
     ]
    }
   ],
   "source": [
    "pip install -U scikit-learn"
   ]
  },
  {
   "cell_type": "code",
   "execution_count": 22,
   "id": "organic-conversion",
   "metadata": {},
   "outputs": [],
   "source": [
    "import numpy as np\n",
    "import json, csv, math, random\n",
    "from sklearn.feature_extraction.text import TfidfVectorizer, CountVectorizer\n",
    "from sklearn.preprocessing import LabelEncoder\n",
    "from sklearn import svm"
   ]
  },
  {
   "cell_type": "code",
   "execution_count": 23,
   "id": "reported-computer",
   "metadata": {},
   "outputs": [],
   "source": [
    "Encoder = LabelEncoder()"
   ]
  },
  {
   "cell_type": "code",
   "execution_count": 24,
   "id": "killing-scheme",
   "metadata": {},
   "outputs": [],
   "source": [
    "def read_tweets(path):\n",
    "    \"\"\" Read the Tweets from a given text file and return in JSON-format. \"\"\"\n",
    "    \n",
    "    content = \"\"\n",
    "    \n",
    "    try:\n",
    "        with open(path, 'r') as f:\n",
    "            content = json.loads(f.read())\n",
    "    except IOError:\n",
    "        print(\"I/O error\")\n",
    "        \n",
    "    return content"
   ]
  },
  {
   "cell_type": "code",
   "execution_count": 120,
   "id": "universal-gravity",
   "metadata": {},
   "outputs": [],
   "source": [
    "def write_tweets(tweets_w, path):\n",
    "    \"\"\" Write obtained Tweets to a text file in JSON-format. \"\"\"\n",
    "    \n",
    "    try:\n",
    "        with open(path, 'w') as f:\n",
    "            json.dump(tweets_w, f)\n",
    "    except IOError:\n",
    "        print(\"I/O error\")\n",
    "        \n",
    "    print(\"Wrote %s Tweets\" % len(tweets_w))"
   ]
  },
  {
   "cell_type": "code",
   "execution_count": 123,
   "id": "arbitrary-criterion",
   "metadata": {},
   "outputs": [],
   "source": [
    "def classify_tweets(X_train, y_train, X_unlabeled, c_type):\n",
    "    \"\"\" Classify unlabeled Tweets by training SVM model on gold-standard data. \"\"\"\n",
    "\n",
    "    # Encode labels\n",
    "    y_train = Encoder.fit_transform(y_train)\n",
    "\n",
    "    # Select appropriate vectorizer and hyperparameters\n",
    "    if c_type == 'content':\n",
    "        vectorizer = CountVectorizer(analyzer='word', ngram_range=(1, 2), min_df=1, max_df=0.4, max_features=3000)\n",
    "    else:\n",
    "        vectorizer = TfidfVectorizer(ngram_range=(1, 2), min_df=1, max_df=0.4, max_features=450, sublinear_tf=True)\n",
    "\n",
    "    # Fit and transform tokens\n",
    "    X_train = vectorizer.fit_transform(X_train)\n",
    "    X_unlabeled = vectorizer.transform(X_unlabeled)\n",
    "\n",
    "    # Select appropriate SVM implementation and hyperparameters\n",
    "    if c_type == 'content':\n",
    "        clf = svm.LinearSVC(C=0.5, class_weight='balanced', dual=False)\n",
    "    else:\n",
    "        clf = svm.SVC(kernel='linear', C=0.6, class_weight='balanced')\n",
    "\n",
    "    # Predict labels and return prediction\n",
    "    clf.fit(X_train, y_train)\n",
    "    predictions = clf.predict(X_unlabeled)\n",
    "    \n",
    "    # Return decoded labels in list\n",
    "    return list(Encoder.inverse_transform(predictions))"
   ]
  },
  {
   "cell_type": "code",
   "execution_count": 124,
   "id": "external-dispute",
   "metadata": {},
   "outputs": [],
   "source": [
    "def merge_labels(tweets, labels_con, labels_act):\n",
    "    \"\"\" Merge the new labels with the JSON-structure containing information about the Tweets. \"\"\"\n",
    "    \n",
    "    i = 0\n",
    "    \n",
    "    for tweet in tweets:\n",
    "        \n",
    "        # Skip Tweet if it is already labeled\n",
    "        if tweet['memo'] != 'gold_standard':\n",
    "            tweet['cat_con'] = labels_con[i]\n",
    "            tweet['cat_act'] = labels_act[i]\n",
    "            i += 1\n",
    "    \n",
    "    return tweets"
   ]
  },
  {
   "cell_type": "code",
   "execution_count": null,
   "id": "hydraulic-mexico",
   "metadata": {},
   "outputs": [],
   "source": [
    "# Read all Tweets\n",
    "tweets_preprocessed = read_tweets('source/tweets_all_preprocessed_exc_stopwords.txt')\n",
    "tweets_raw = read_tweets('source/tweets_all.txt')\n",
    "\n",
    "# Split Tweets into labeled and unlabeled\n",
    "tweets_labeled = [tweet for tweet in tweets_preprocessed if tweet['memo'] == 'gold_standard']\n",
    "tweets_unlabeled = [tweet for tweet in tweets_preprocessed if tweet['memo'] != 'gold_standard']\n",
    "\n",
    "# Select the text from those Tweets\n",
    "tweets_labeled_text = [tweet['text'] for tweet in tweets_labeled]\n",
    "tweets_unlabeled_text = [tweet['text'] for tweet in tweets_unlabeled]\n",
    "\n",
    "# Select the labels from those Tweets\n",
    "labels_con = [tweet['cat_con'] for tweet in tweets_labeled]\n",
    "labels_act = [tweet['cat_act'] for tweet in tweets_labeled]\n",
    "\n",
    "# Label Tweets using classification model\n",
    "new_labels_con = classify_tweets(tweets_labeled_text, labels_con, tweets_unlabeled_text, 'content')\n",
    "new_labels_act = classify_tweets(tweets_labeled_text, labels_act, tweets_unlabeled_text, 'activation')\n",
    "\n",
    "# Merge the new labels with the (non-preprocessed) JSON-structure and write it to a txt file\n",
    "tweets_labeled = merge_labels(tweets_raw, new_labels_con, new_labels_act)\n",
    "write_tweets(tweets_labeled, 'source/tweets_all_labeled.txt')"
   ]
  }
 ],
 "metadata": {
  "kernelspec": {
   "display_name": "Python 3",
   "language": "python",
   "name": "python3"
  },
  "language_info": {
   "codemirror_mode": {
    "name": "ipython",
    "version": 3
   },
   "file_extension": ".py",
   "mimetype": "text/x-python",
   "name": "python",
   "nbconvert_exporter": "python",
   "pygments_lexer": "ipython3",
   "version": "3.8.5"
  }
 },
 "nbformat": 4,
 "nbformat_minor": 5
}
