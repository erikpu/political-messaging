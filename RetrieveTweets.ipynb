{
 "cells": [
  {
   "cell_type": "code",
   "execution_count": 1,
   "id": "hollow-water",
   "metadata": {},
   "outputs": [],
   "source": [
    "import twitter\n",
    "import json\n",
    "import requests\n",
    "import os\n",
    "import csv\n",
    "import time\n",
    "import matplotlib.pyplot as plt\n",
    "import matplotlib.patches as mpatches\n",
    "import datetime\n",
    "import random\n",
    "import re"
   ]
  },
  {
   "cell_type": "code",
   "execution_count": 17,
   "id": "suitable-handy",
   "metadata": {},
   "outputs": [],
   "source": [
    "def read_token():\n",
    "    \"\"\" Read the Twitter API Token from a preset text file. \"\"\"\n",
    "    \n",
    "    token = \"\"\n",
    "    \n",
    "    try:\n",
    "        with open(\"source/token.txt\", 'r') as f:\n",
    "            token = f.read()\n",
    "    except IOError:\n",
    "        print(\"I/O error\")\n",
    "        \n",
    "    os.environ['TOKEN'] = token"
   ]
  },
  {
   "cell_type": "code",
   "execution_count": 3,
   "id": "bridal-jewelry",
   "metadata": {},
   "outputs": [],
   "source": [
    "# This function takes a query and other relevant request info and requests all Tweets matching the query and the\n",
    "# given start and end time. Between each request, a short sleep time is installed to prevent breaking query limits\n",
    "# of Twitter API.\n",
    "def request_tweets(query, start_time, end_time, max_results, sleep_time):\n",
    "    bearer_token = os.getenv('TOKEN')\n",
    "    headers = {\"Authorization\": \"Bearer {}\".format(bearer_token)}\n",
    "    \n",
    "    search_url = \"https://api.twitter.com/2/tweets/search/all\"\n",
    "    next_token = \"\"\n",
    "    tweets = []\n",
    "    i = 0\n",
    "    \n",
    "    while True:\n",
    "        if i > 0:\n",
    "            query_params = {'query': query,\n",
    "                'start_time': start_time,\n",
    "                'end_time': end_time,\n",
    "                'max_results': max_results,\n",
    "                'tweet.fields': 'public_metrics,created_at,author_id,conversation_id',\n",
    "                'pagination_token': next_token}\n",
    "            \n",
    "            # Wait before the next request\n",
    "            time.sleep(sleep_time)\n",
    "        else:            \n",
    "            query_params = {'query': query,\n",
    "                'start_time': start_time,\n",
    "                'end_time': end_time,\n",
    "                'max_results': max_results,\n",
    "                'tweet.fields': 'public_metrics,created_at,author_id,conversation_id'}\n",
    "\n",
    "        response = requests.request(\"GET\", search_url, headers = headers, params = query_params)\n",
    "        \n",
    "        # Stop if error occurs\n",
    "        if response.status_code != 200:\n",
    "            raise Exception(response.status_code, response.text)\n",
    "            break\n",
    "    \n",
    "        # Stop of no data found\n",
    "        res = response.json()\n",
    "        if 'data' not in res:\n",
    "            print(\"Data not found:\")\n",
    "            print(res)\n",
    "            break\n",
    "        else:\n",
    "            res_tweets = res['data']\n",
    "        \n",
    "        # Append new Tweets to Tweets list\n",
    "        for tweet in res_tweets:\n",
    "            tweets.append(tweet)\n",
    "            \n",
    "        # Stop if no next token\n",
    "        res = response.json()\n",
    "        if 'next_token' not in res['meta']:\n",
    "            break\n",
    "\n",
    "        next_token = res['meta']['next_token']\n",
    "        i += 1\n",
    "    \n",
    "    return tweets"
   ]
  },
  {
   "cell_type": "code",
   "execution_count": 4,
   "id": "widespread-proportion",
   "metadata": {},
   "outputs": [],
   "source": [
    "# This function reads the file that contains user information.\n",
    "def read_users():\n",
    "    \n",
    "    content = \"\"\n",
    "    \n",
    "    try:\n",
    "        with open(\"source/users.txt\", 'r') as f:\n",
    "            content = json.loads(f.read())\n",
    "    except IOError:\n",
    "        print(\"I/O error\")\n",
    "    \n",
    "    return content"
   ]
  },
  {
   "cell_type": "code",
   "execution_count": 5,
   "id": "southeast-northwest",
   "metadata": {},
   "outputs": [],
   "source": [
    "# This function removes collection Tweets (messages that do not fit in one Tweet) from a given list of Tweets.\n",
    "def remove_collections(tweets):\n",
    "    \n",
    "    tweets2 = []\n",
    "    \n",
    "    for tweet in tweets:\n",
    "        # Remove hashtags\n",
    "        text = re.sub('#[A-Za-z0-9_]+','', tweet['text'])\n",
    "        \n",
    "        # Remove links\n",
    "        text = re.sub('http[A-Za-z0-9_:/.]+','', text)\n",
    "        \n",
    "        # Remove trailing whitespaces\n",
    "        text = text.strip()\n",
    "        \n",
    "        # Match patterns of collections\n",
    "        m = re.search('[0-9]+/[0-9]+\\]$|[0-9]+/\\]$|[0-9]+/[0-9]+\\)$|[0-9]+/\\)$|[0-9]+/$|[0-9]+/[0-9]+$', text)\n",
    "        n = re.search('[0-9]+/', text)\n",
    "        \n",
    "        if not m:\n",
    "            tweets2.append(tweet)\n",
    "    \n",
    "    return tweets2"
   ]
  },
  {
   "cell_type": "code",
   "execution_count": 18,
   "id": "opposed-module",
   "metadata": {},
   "outputs": [],
   "source": [
    "read_token()\n",
    "users = read_users()\n",
    "\n",
    "start_time = \"2021-02-04T00:00:00.000Z\"\n",
    "end_time = \"2021-03-18T00:00:00.000Z\""
   ]
  },
  {
   "cell_type": "code",
   "execution_count": 19,
   "id": "shared-program",
   "metadata": {},
   "outputs": [],
   "source": [
    "# This function loops through users and generates a query which is used to request Tweets. All Tweets are appended\n",
    "# to one single list which is later shuffled to randomize the order.\n",
    "def get_tweets(users, start_time, end_time):\n",
    "    \n",
    "    sleep_time = 1.1\n",
    "    max_results = 500\n",
    "    tweets = []\n",
    "    \n",
    "    # Retrieve Tweets for each user\n",
    "    for handle, info in users.items():\n",
    "        query = \"from:%s lang:nl -is:retweet -is:reply -is:quote\" % (handle)\n",
    "        res = request_tweets(query, start_time, end_time, max_results, sleep_time)\n",
    "        res_clean = remove_collections(res)\n",
    "        \n",
    "        # Add author_handle to Tweets\n",
    "        for tweet in res_clean:\n",
    "            tweet.update({\"author_handle\": handle})\n",
    "        \n",
    "        print(\"%s: %s Tweets\" % (handle, len(res_clean)))\n",
    "        \n",
    "        tweets.extend(res_clean)\n",
    "        \n",
    "        # Wait before the next request\n",
    "        time.sleep(sleep_time)\n",
    "        \n",
    "    print(\"Total Tweets: %s\" % (len(tweets)))\n",
    "    \n",
    "    # Shuffle order of Tweets\n",
    "    random.shuffle(tweets)\n",
    "    \n",
    "    return tweets"
   ]
  },
  {
   "cell_type": "code",
   "execution_count": 20,
   "id": "illegal-crisis",
   "metadata": {},
   "outputs": [
    {
     "name": "stdout",
     "output_type": "stream",
     "text": [
      "VVD: 226 Tweets\n",
      "markrutte: 34 Tweets\n",
      "D66: 334 Tweets\n"
     ]
    },
    {
     "ename": "KeyboardInterrupt",
     "evalue": "",
     "output_type": "error",
     "traceback": [
      "\u001b[0;31m---------------------------------------------------------------------------\u001b[0m",
      "\u001b[0;31mKeyboardInterrupt\u001b[0m                         Traceback (most recent call last)",
      "\u001b[0;32m<ipython-input-20-d2475628e85e>\u001b[0m in \u001b[0;36m<module>\u001b[0;34m\u001b[0m\n\u001b[0;32m----> 1\u001b[0;31m \u001b[0mtweets\u001b[0m \u001b[0;34m=\u001b[0m \u001b[0mget_tweets\u001b[0m\u001b[0;34m(\u001b[0m\u001b[0musers\u001b[0m\u001b[0;34m,\u001b[0m \u001b[0mstart_time\u001b[0m\u001b[0;34m,\u001b[0m \u001b[0mend_time\u001b[0m\u001b[0;34m)\u001b[0m\u001b[0;34m\u001b[0m\u001b[0;34m\u001b[0m\u001b[0m\n\u001b[0m",
      "\u001b[0;32m<ipython-input-19-7f63a075bc6c>\u001b[0m in \u001b[0;36mget_tweets\u001b[0;34m(users, start_time, end_time)\u001b[0m\n\u001b[1;32m     22\u001b[0m \u001b[0;34m\u001b[0m\u001b[0m\n\u001b[1;32m     23\u001b[0m         \u001b[0;31m# Wait before the next request\u001b[0m\u001b[0;34m\u001b[0m\u001b[0;34m\u001b[0m\u001b[0;34m\u001b[0m\u001b[0m\n\u001b[0;32m---> 24\u001b[0;31m         \u001b[0mtime\u001b[0m\u001b[0;34m.\u001b[0m\u001b[0msleep\u001b[0m\u001b[0;34m(\u001b[0m\u001b[0msleep_time\u001b[0m\u001b[0;34m)\u001b[0m\u001b[0;34m\u001b[0m\u001b[0;34m\u001b[0m\u001b[0m\n\u001b[0m\u001b[1;32m     25\u001b[0m \u001b[0;34m\u001b[0m\u001b[0m\n\u001b[1;32m     26\u001b[0m     \u001b[0mprint\u001b[0m\u001b[0;34m(\u001b[0m\u001b[0;34m\"Total Tweets: %s\"\u001b[0m \u001b[0;34m%\u001b[0m \u001b[0;34m(\u001b[0m\u001b[0mlen\u001b[0m\u001b[0;34m(\u001b[0m\u001b[0mtweets\u001b[0m\u001b[0;34m)\u001b[0m\u001b[0;34m)\u001b[0m\u001b[0;34m)\u001b[0m\u001b[0;34m\u001b[0m\u001b[0;34m\u001b[0m\u001b[0m\n",
      "\u001b[0;31mKeyboardInterrupt\u001b[0m: "
     ]
    }
   ],
   "source": [
    "tweets = get_tweets(users, start_time, end_time)"
   ]
  },
  {
   "cell_type": "code",
   "execution_count": 9,
   "id": "advised-ballet",
   "metadata": {},
   "outputs": [],
   "source": [
    "# This function writes the Tweets to a local file.\n",
    "def write_tweets(tweets):\n",
    "    \n",
    "    try:\n",
    "        with open(\"source/all_tweets.txt\", 'w') as f:\n",
    "            json.dump(tweets, f)\n",
    "    except IOError:\n",
    "        print(\"I/O error\")"
   ]
  },
  {
   "cell_type": "code",
   "execution_count": 10,
   "id": "considerable-parts",
   "metadata": {},
   "outputs": [],
   "source": [
    "write_tweets(tweets)"
   ]
  }
 ],
 "metadata": {
  "kernelspec": {
   "display_name": "Python 3",
   "language": "python",
   "name": "python3"
  },
  "language_info": {
   "codemirror_mode": {
    "name": "ipython",
    "version": 3
   },
   "file_extension": ".py",
   "mimetype": "text/x-python",
   "name": "python",
   "nbconvert_exporter": "python",
   "pygments_lexer": "ipython3",
   "version": "3.8.5"
  }
 },
 "nbformat": 4,
 "nbformat_minor": 5
}
