{
 "cells": [
  {
   "cell_type": "markdown",
   "id": "limiting-joseph",
   "metadata": {},
   "source": [
    "# Krippendorff.ipynb\n",
    "\n",
    "### This notebook can be used to calculate Krippendorffs alpha given a set of codings.\n",
    "\n",
    "Author: Erik Puijk <br>\n",
    "Date  : February 10, 2022"
   ]
  },
  {
   "cell_type": "code",
   "execution_count": 77,
   "id": "above-semester",
   "metadata": {},
   "outputs": [
    {
     "name": "stdout",
     "output_type": "stream",
     "text": [
      "Collecting simpledorff\n",
      "  Downloading simpledorff-0.0.2-py3-none-any.whl (5.6 kB)\n",
      "Installing collected packages: simpledorff\n",
      "Successfully installed simpledorff-0.0.2\n"
     ]
    }
   ],
   "source": [
    "!pip install simpledorff"
   ]
  },
  {
   "cell_type": "code",
   "execution_count": 82,
   "id": "previous-convenience",
   "metadata": {},
   "outputs": [],
   "source": [
    "import simpledorff\n",
    "import csv\n",
    "import pandas as pd"
   ]
  },
  {
   "cell_type": "code",
   "execution_count": 86,
   "id": "utility-polymer",
   "metadata": {},
   "outputs": [],
   "source": [
    "def read_codings(path):\n",
    "    \"\"\" Read a csv file of codings. \"\"\"\n",
    "    \n",
    "    codings = []\n",
    "    \n",
    "    try:\n",
    "        with open(path, newline='') as csvfile:\n",
    "            codings = pd.read_csv(path)\n",
    "    except IOError:\n",
    "        print(\"I/O error\")\n",
    "        \n",
    "    return codings"
   ]
  },
  {
   "cell_type": "code",
   "execution_count": 90,
   "id": "ruled-creativity",
   "metadata": {},
   "outputs": [],
   "source": [
    "def calc_alpha(path):\n",
    "    codings = read_codings(path)\n",
    "    \n",
    "    \n",
    "    print(simpledorff.calculate_krippendorffs_alpha_for_df(codings, experiment_col='tweet_id', \\\n",
    "                                                           annotator_col='annotator_id', class_col='code'))"
   ]
  },
  {
   "cell_type": "code",
   "execution_count": 93,
   "id": "distinct-chicken",
   "metadata": {},
   "outputs": [
    {
     "name": "stdout",
     "output_type": "stream",
     "text": [
      "0.5145314739997393\n"
     ]
    }
   ],
   "source": [
    "calc_alpha('codings.csv')"
   ]
  },
  {
   "cell_type": "code",
   "execution_count": null,
   "id": "warming-cover",
   "metadata": {},
   "outputs": [],
   "source": []
  }
 ],
 "metadata": {
  "kernelspec": {
   "display_name": "Python 3",
   "language": "python",
   "name": "python3"
  },
  "language_info": {
   "codemirror_mode": {
    "name": "ipython",
    "version": 3
   },
   "file_extension": ".py",
   "mimetype": "text/x-python",
   "name": "python",
   "nbconvert_exporter": "python",
   "pygments_lexer": "ipython3",
   "version": "3.8.5"
  }
 },
 "nbformat": 4,
 "nbformat_minor": 5
}
