{
 "cells": [
  {
   "cell_type": "markdown",
   "id": "annual-hometown",
   "metadata": {},
   "source": [
    "# MachineLearning.ipynb\n",
    "\n",
    "### This notebook contains the feature generation, supervised machine learning and validation for automatic classification of Tweets.\n",
    "\n",
    "Author: Erik Puijk <br>\n",
    "Date  : March 28, 2022"
   ]
  },
  {
   "cell_type": "code",
   "execution_count": 1,
   "id": "noted-tackle",
   "metadata": {},
   "outputs": [
    {
     "name": "stdout",
     "output_type": "stream",
     "text": [
      "Requirement already up-to-date: scikit-learn in /home/erik/anaconda3/lib/python3.8/site-packages (1.0.2)\n",
      "Requirement already satisfied, skipping upgrade: numpy>=1.14.6 in /home/erik/.local/lib/python3.8/site-packages (from scikit-learn) (1.20.1)\n",
      "Requirement already satisfied, skipping upgrade: joblib>=0.11 in /home/erik/anaconda3/lib/python3.8/site-packages (from scikit-learn) (0.17.0)\n",
      "Requirement already satisfied, skipping upgrade: scipy>=1.1.0 in /home/erik/anaconda3/lib/python3.8/site-packages (from scikit-learn) (1.5.2)\n",
      "Requirement already satisfied, skipping upgrade: threadpoolctl>=2.0.0 in /home/erik/anaconda3/lib/python3.8/site-packages (from scikit-learn) (2.1.0)\n",
      "Note: you may need to restart the kernel to use updated packages.\n"
     ]
    }
   ],
   "source": [
    "pip install -U scikit-learn"
   ]
  },
  {
   "cell_type": "code",
   "execution_count": 2,
   "id": "organic-conversion",
   "metadata": {},
   "outputs": [],
   "source": [
    "import numpy as np\n",
    "import json, csv, math, random\n",
    "from sklearn.model_selection import train_test_split, cross_val_score, cross_validate\n",
    "from sklearn.feature_extraction.text import TfidfVectorizer, CountVectorizer, TfidfTransformer\n",
    "from sklearn.preprocessing import LabelEncoder\n",
    "from sklearn.metrics import f1_score, classification_report, accuracy_score, make_scorer, cohen_kappa_score\n",
    "from sklearn.feature_extraction.text import TfidfTransformer\n",
    "from sklearn.utils import resample\n",
    "from sklearn import svm, metrics"
   ]
  },
  {
   "cell_type": "code",
   "execution_count": 70,
   "id": "reported-computer",
   "metadata": {},
   "outputs": [],
   "source": [
    "Encoder = LabelEncoder()"
   ]
  },
  {
   "cell_type": "code",
   "execution_count": 4,
   "id": "basic-floating",
   "metadata": {},
   "outputs": [],
   "source": [
    "# https://scikit-learn.org/stable/modules/svm.html\n",
    "# https://machinelearningmastery.com/overfitting-and-underfitting-with-machine-learning-algorithms/\n",
    "# https://vitalflux.com/hold-out-method-for-training-machine-learning-model/\n",
    "# https://towardsdatascience.com/cross-validation-in-machine-learning-72924a69872f\n",
    "# https://scikit-learn.org/stable/modules/cross_validation.html\n",
    "# https://medium.com/@bedigunjit/simple-guide-to-text-classification-nlp-using-svm-and-naive-bayes-with-python-421db3a72d34"
   ]
  },
  {
   "cell_type": "code",
   "execution_count": 5,
   "id": "killing-scheme",
   "metadata": {},
   "outputs": [],
   "source": [
    "def read_tweets(path):\n",
    "    \"\"\" Read the Tweets from a given text file and return in JSON-format. \"\"\"\n",
    "    \n",
    "    content = \"\"\n",
    "    \n",
    "    try:\n",
    "        with open(path, 'r') as f:\n",
    "            content = json.loads(f.read())\n",
    "    except IOError:\n",
    "        print(\"I/O error\")\n",
    "        \n",
    "    print(\"Total Tweets read: %s\\n\" % (len(content)))\n",
    "\n",
    "    return content"
   ]
  },
  {
   "cell_type": "code",
   "execution_count": 6,
   "id": "universal-gravity",
   "metadata": {},
   "outputs": [],
   "source": [
    "def write_tweets(tweets_w, path):\n",
    "    \"\"\" Write obtained Tweets to a text file in JSON-format. \"\"\"\n",
    "    \n",
    "    try:\n",
    "        with open(path, 'w') as f:\n",
    "            json.dump(tweets_w, f)\n",
    "    except IOError:\n",
    "        print(\"I/O error\")"
   ]
  },
  {
   "cell_type": "code",
   "execution_count": 7,
   "id": "mechanical-indicator",
   "metadata": {},
   "outputs": [],
   "source": [
    "def stats_count(cat):\n",
    "    \"\"\" Count the occurrences of each category in a list of categories. \"\"\"\n",
    "    \n",
    "    occurrences = [[x,cat.count(x)] for x in set(cat)]\n",
    "    \n",
    "    print('Number of training data')\n",
    "    \n",
    "    for occ in occurrences:\n",
    "        print('%s: %s' % (occ[0], occ[1]))\n",
    "        \n",
    "    print('')"
   ]
  },
  {
   "cell_type": "code",
   "execution_count": 58,
   "id": "convenient-front",
   "metadata": {},
   "outputs": [],
   "source": [
    "def get_score(clf, X_test, y_test):\n",
    "    \"\"\" Call an f1-score function to calculate the performance of a model configuration. \"\"\"\n",
    "    \n",
    "    pred = clf.predict(X_test)\n",
    "    \n",
    "    labels = sorted(Encoder.inverse_transform(list(set(y_test))))\n",
    "    scores = list(f1_score(y_test, pred, average=None, zero_division=0))\n",
    "    print(len(scores))\n",
    "    dict_s = {labels: scores for labels, scores in zip(labels, scores)}\n",
    "    \n",
    "    #score = f1_score(y_test, pred, average='micro', zero_division=0)\n",
    "    #score = cohen_kappa_score(y_test, pred)\n",
    "    \n",
    "    return dict_s"
   ]
  },
  {
   "cell_type": "code",
   "execution_count": 66,
   "id": "critical-founder",
   "metadata": {},
   "outputs": [],
   "source": [
    "def calc_avg_score(scores, labels):\n",
    "    \"\"\" Calculate an average score given a list of scores. \"\"\"\n",
    "    \n",
    "    \n",
    "    scores_avg = []\n",
    "    \n",
    "    for i in range(0, len(labels)):\n",
    "        total = 0\n",
    "        \n",
    "        for score in scores['test_' + labels[i]]:\n",
    "            total += score\n",
    "        \n",
    "        scores_avg.append(total / len(scores))\n",
    "    \n",
    "    return scores_avg"
   ]
  },
  {
   "cell_type": "code",
   "execution_count": 67,
   "id": "comparative-completion",
   "metadata": {},
   "outputs": [],
   "source": [
    "def cross_val(v_type, X_train, y_train, ngram_min, ngram_max, min_df, max_df, max_features, cats):\n",
    "    \"\"\" Perform the count/tfidf vectorization on the test set and run 5-fold cross validation on the test set\n",
    "        to compare the results. \"\"\"\n",
    "    \n",
    "    # Select appropriate vectorizer\n",
    "    if v_type == 'count':\n",
    "        vectorizer = CountVectorizer(analyzer='word', ngram_range=(ngram_min, ngram_max), min_df=min_df, \\\n",
    "                                     max_df=max_df, max_features=max_features)\n",
    "    else:\n",
    "        vectorizer = TfidfVectorizer(ngram_range=(ngram_min, ngram_max), min_df=min_df, max_df=max_df, \\\n",
    "                                     max_features=max_features, sublinear_tf=True)\n",
    "    \n",
    "    X_train = vectorizer.fit_transform(X_train)\n",
    "    \n",
    "    # Create SVM\n",
    "    clf = svm.SVC(kernel='linear', C=1, class_weight='balanced')\n",
    "        \n",
    "    # Run cross-validation and calculate scores\n",
    "    scores = cross_validate(clf, X=X_train, y=y_train, cv=5, scoring=get_score, error_score=\"raise\")\n",
    "    \n",
    "    # Return the configuration of the model together with the average of scores\n",
    "    return [[ngram_min, ngram_max, min_df, max_df, max_features], calc_avg_score(scores, cats)]"
   ]
  },
  {
   "cell_type": "code",
   "execution_count": 68,
   "id": "arbitrary-criterion",
   "metadata": {},
   "outputs": [],
   "source": [
    "def test_configurations(v_type, test_validation, tweets, labels):\n",
    "    \"\"\" Test different configurations for different models and compare the micro-f1 scores to select the best\n",
    "        model. \"\"\"\n",
    "    \n",
    "    cats = list(set(labels))\n",
    "    \n",
    "    # Define model parameters according to which categorization\n",
    "    if len(cats) == 3:\n",
    "        # Content\n",
    "        ngrams = [1, 2]\n",
    "        min_dfs = [1, 2, 3, 4, 5]\n",
    "        max_dfs = [0.05, 0.1, 0.2, 0.4, 0.6, 0.8, 1.0]\n",
    "        max_features = [None, 1000, 2000, 3000]\n",
    "    else:\n",
    "        # Activation\n",
    "        ngrams = [1, 2]\n",
    "        min_dfs = [1, 2, 3, 4, 5]\n",
    "        max_dfs = [0.05, 0.1, 0.2, 0.4, 0.6, 0.8, 1.0]\n",
    "        max_features = [None, 1000, 2000, 3000]\n",
    "    \n",
    "    # Split data set into training and testing sets\n",
    "    X_train, X_test, y_train, y_test = train_test_split(tweets, labels, test_size=0.3, random_state=0)\n",
    "        \n",
    "    #stats_count(list(y_train))\n",
    "\n",
    "    # Encode labels\n",
    "    y_train = Encoder.fit_transform(y_train)\n",
    "    y_test = Encoder.fit_transform(y_test)\n",
    "    \n",
    "    scores = []\n",
    "    i = 0\n",
    "    i_max = (len(ngrams)**2 - math.factorial(len(ngrams)-1)) * len(min_dfs) * len(max_dfs) * len(max_features)\n",
    "    \n",
    "    # Combine each parameter and run the model with cross validation\n",
    "    for ngram_min in ngrams:\n",
    "        for ngram_max in ngrams:\n",
    "            if ngram_min > ngram_max:\n",
    "                continue\n",
    "            for min_df in min_dfs:\n",
    "                for max_df in max_dfs:\n",
    "                    for max_feature in max_features:\n",
    "                        i += 1\n",
    "                        print('Progress: %s/%s configurations' % (i, i_max), end='\\r')\n",
    "                        \n",
    "                        # Call the function for the model and append the score\n",
    "                        scores.append(cross_val(v_type, X_train, y_train, ngram_min, ngram_max, min_df, \\\n",
    "                                                max_df, max_feature, cats))\n",
    "    \n",
    "    # Sort the scores descending and print them\n",
    "    scores.sort(key=lambda x: x[1], reverse=True)\n",
    "    \n",
    "    if test_validation:\n",
    "        # Select the best configurations\n",
    "        best_score = scores[0][1]\n",
    "        best_configs = []\n",
    "        for config in scores:\n",
    "            if config[1] == best_score:\n",
    "                best_configs.append(config[0])\n",
    "\n",
    "        # Use the best configurations to validate model on the test set\n",
    "        for config in best_configs:\n",
    "            print(config)\n",
    "            \n",
    "            # Select appropriate vectorizer\n",
    "            if v_type == 'count':\n",
    "                vectorizer = CountVectorizer(analyzer='word', ngram_range=(config[0], config[1]), \\\n",
    "                                             min_df=config[2], max_df=config[3], max_features=config[4])\n",
    "            else:\n",
    "                vectorizer = TfidfVectorizer(ngram_range=(config[0], config[1]), min_df=config[2], \\\n",
    "                                             max_df=config[3], max_features=config[4])\n",
    "            \n",
    "            # Train with vectorized features\n",
    "            X_train_t = vectorizer.fit_transform(X_train)\n",
    "            X_test_t = vectorizer.transform(X_test)\n",
    "            clf = svm.SVC(kernel='linear', C=1, class_weight='balanced')\n",
    "            clf.fit(X_train_t, y_train)\n",
    "            \n",
    "            # Predict and compare with test set\n",
    "            pred = clf.predict(X_test_t)\n",
    "            print(classification_report(y_test, pred, target_names=Encoder.inverse_transform(list(set(y_test))), \\\n",
    "                                        zero_division=0))\n",
    "\n",
    "    print(scores)"
   ]
  },
  {
   "cell_type": "code",
   "execution_count": 69,
   "id": "hydraulic-mexico",
   "metadata": {},
   "outputs": [
    {
     "name": "stdout",
     "output_type": "stream",
     "text": [
      "Total Tweets read: 4664\n",
      "\n",
      "Progress: 1/420 configurations\r",
      "4\n",
      "4\n",
      "4\n",
      "4\n",
      "4\n"
     ]
    },
    {
     "ename": "NameError",
     "evalue": "name 'y_test' is not defined",
     "output_type": "error",
     "traceback": [
      "\u001b[0;31m---------------------------------------------------------------------------\u001b[0m",
      "\u001b[0;31mNameError\u001b[0m                                 Traceback (most recent call last)",
      "\u001b[0;32m<ipython-input-69-baa60aecded4>\u001b[0m in \u001b[0;36m<module>\u001b[0;34m\u001b[0m\n\u001b[1;32m      8\u001b[0m \u001b[0;34m\u001b[0m\u001b[0m\n\u001b[1;32m      9\u001b[0m \u001b[0;31m#test_configurations('count', True, tweets_text, labels_con)\u001b[0m\u001b[0;34m\u001b[0m\u001b[0;34m\u001b[0m\u001b[0;34m\u001b[0m\u001b[0m\n\u001b[0;32m---> 10\u001b[0;31m \u001b[0mtest_configurations\u001b[0m\u001b[0;34m(\u001b[0m\u001b[0;34m'tfidf'\u001b[0m\u001b[0;34m,\u001b[0m \u001b[0;32mTrue\u001b[0m\u001b[0;34m,\u001b[0m \u001b[0mtweets_text\u001b[0m\u001b[0;34m,\u001b[0m \u001b[0mlabels_act\u001b[0m\u001b[0;34m)\u001b[0m\u001b[0;34m\u001b[0m\u001b[0;34m\u001b[0m\u001b[0m\n\u001b[0m",
      "\u001b[0;32m<ipython-input-68-0d6729243ed2>\u001b[0m in \u001b[0;36mtest_configurations\u001b[0;34m(v_type, test_validation, tweets, labels)\u001b[0m\n\u001b[1;32m     42\u001b[0m \u001b[0;34m\u001b[0m\u001b[0m\n\u001b[1;32m     43\u001b[0m                         \u001b[0;31m# Call the function for the model and append the score\u001b[0m\u001b[0;34m\u001b[0m\u001b[0;34m\u001b[0m\u001b[0;34m\u001b[0m\u001b[0m\n\u001b[0;32m---> 44\u001b[0;31m                         \u001b[0mscores\u001b[0m\u001b[0;34m.\u001b[0m\u001b[0mappend\u001b[0m\u001b[0;34m(\u001b[0m\u001b[0mcross_val\u001b[0m\u001b[0;34m(\u001b[0m\u001b[0mv_type\u001b[0m\u001b[0;34m,\u001b[0m \u001b[0mX_train\u001b[0m\u001b[0;34m,\u001b[0m \u001b[0my_train\u001b[0m\u001b[0;34m,\u001b[0m \u001b[0mngram_min\u001b[0m\u001b[0;34m,\u001b[0m \u001b[0mngram_max\u001b[0m\u001b[0;34m,\u001b[0m \u001b[0mmin_df\u001b[0m\u001b[0;34m,\u001b[0m \u001b[0mmax_df\u001b[0m\u001b[0;34m,\u001b[0m \u001b[0mmax_feature\u001b[0m\u001b[0;34m)\u001b[0m\u001b[0;34m)\u001b[0m\u001b[0;34m\u001b[0m\u001b[0;34m\u001b[0m\u001b[0m\n\u001b[0m\u001b[1;32m     45\u001b[0m \u001b[0;34m\u001b[0m\u001b[0m\n\u001b[1;32m     46\u001b[0m     \u001b[0;31m# Sort the scores descending and print them\u001b[0m\u001b[0;34m\u001b[0m\u001b[0;34m\u001b[0m\u001b[0;34m\u001b[0m\u001b[0m\n",
      "\u001b[0;32m<ipython-input-67-6ecd23399540>\u001b[0m in \u001b[0;36mcross_val\u001b[0;34m(v_type, X_train, y_train, ngram_min, ngram_max, min_df, max_df, max_features)\u001b[0m\n\u001b[1;32m     21\u001b[0m     \u001b[0;31m# Return the configuration of the model together with the average of scores\u001b[0m\u001b[0;34m\u001b[0m\u001b[0;34m\u001b[0m\u001b[0;34m\u001b[0m\u001b[0m\n\u001b[1;32m     22\u001b[0m     return [[ngram_min, ngram_max, min_df, max_df, max_features], \\\n\u001b[0;32m---> 23\u001b[0;31m             calc_avg_score(scores, sorted(Encoder.inverse_transform(list(set(y_test)))))]\n\u001b[0m",
      "\u001b[0;31mNameError\u001b[0m: name 'y_test' is not defined"
     ]
    }
   ],
   "source": [
    "tweets_all = read_tweets('source/tweets_all_preprocessed.txt')\n",
    "tweets_gs = [tweet for tweet in tweets_all if tweet['memo'] == 'gold_standard']\n",
    "\n",
    "tweets_text = [tweet['text'] for tweet in tweets_gs]\n",
    "\n",
    "labels_con = [tweet['cat_con'] for tweet in tweets_gs]\n",
    "labels_act = [tweet['cat_act'] for tweet in tweets_gs]\n",
    "\n",
    "#test_configurations('count', True, tweets_text, labels_con)\n",
    "test_configurations('tfidf', True, tweets_text, labels_act)"
   ]
  },
  {
   "cell_type": "code",
   "execution_count": null,
   "id": "stainless-activity",
   "metadata": {},
   "outputs": [],
   "source": []
  },
  {
   "cell_type": "code",
   "execution_count": null,
   "id": "latin-gibson",
   "metadata": {},
   "outputs": [],
   "source": []
  }
 ],
 "metadata": {
  "kernelspec": {
   "display_name": "Python 3",
   "language": "python",
   "name": "python3"
  },
  "language_info": {
   "codemirror_mode": {
    "name": "ipython",
    "version": 3
   },
   "file_extension": ".py",
   "mimetype": "text/x-python",
   "name": "python",
   "nbconvert_exporter": "python",
   "pygments_lexer": "ipython3",
   "version": "3.8.5"
  }
 },
 "nbformat": 4,
 "nbformat_minor": 5
}
